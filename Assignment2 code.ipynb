{
 "cells": [
  {
   "cell_type": "code",
   "execution_count": 1,
   "id": "22f420b4",
   "metadata": {},
   "outputs": [
    {
     "name": "stdout",
     "output_type": "stream",
     "text": [
      "Requirement already satisfied: tensorflow in d:\\usa\\dtsc 620\\assignment 1\\env\\lib\\site-packages (2.11.0)\n",
      "Requirement already satisfied: tensorflow-intel==2.11.0 in d:\\usa\\dtsc 620\\assignment 1\\env\\lib\\site-packages (from tensorflow) (2.11.0)\n",
      "Requirement already satisfied: numpy>=1.20 in d:\\usa\\dtsc 620\\assignment 1\\env\\lib\\site-packages (from tensorflow-intel==2.11.0->tensorflow) (1.23.4)\n",
      "Requirement already satisfied: astunparse>=1.6.0 in d:\\usa\\dtsc 620\\assignment 1\\env\\lib\\site-packages (from tensorflow-intel==2.11.0->tensorflow) (1.6.3)\n",
      "Requirement already satisfied: gast<=0.4.0,>=0.2.1 in d:\\usa\\dtsc 620\\assignment 1\\env\\lib\\site-packages (from tensorflow-intel==2.11.0->tensorflow) (0.4.0)\n",
      "Requirement already satisfied: keras<2.12,>=2.11.0 in d:\\usa\\dtsc 620\\assignment 1\\env\\lib\\site-packages (from tensorflow-intel==2.11.0->tensorflow) (2.11.0)\n",
      "Requirement already satisfied: packaging in d:\\usa\\dtsc 620\\assignment 1\\env\\lib\\site-packages (from tensorflow-intel==2.11.0->tensorflow) (21.3)\n",
      "Requirement already satisfied: absl-py>=1.0.0 in d:\\usa\\dtsc 620\\assignment 1\\env\\lib\\site-packages (from tensorflow-intel==2.11.0->tensorflow) (1.3.0)\n",
      "Requirement already satisfied: setuptools in d:\\usa\\dtsc 620\\assignment 1\\env\\lib\\site-packages (from tensorflow-intel==2.11.0->tensorflow) (63.2.0)\n",
      "Requirement already satisfied: termcolor>=1.1.0 in d:\\usa\\dtsc 620\\assignment 1\\env\\lib\\site-packages (from tensorflow-intel==2.11.0->tensorflow) (2.0.1)\n",
      "Requirement already satisfied: tensorflow-io-gcs-filesystem>=0.23.1 in d:\\usa\\dtsc 620\\assignment 1\\env\\lib\\site-packages (from tensorflow-intel==2.11.0->tensorflow) (0.27.0)\n",
      "Requirement already satisfied: opt-einsum>=2.3.2 in d:\\usa\\dtsc 620\\assignment 1\\env\\lib\\site-packages (from tensorflow-intel==2.11.0->tensorflow) (3.3.0)\n",
      "Requirement already satisfied: grpcio<2.0,>=1.24.3 in d:\\usa\\dtsc 620\\assignment 1\\env\\lib\\site-packages (from tensorflow-intel==2.11.0->tensorflow) (1.50.0)\n",
      "Requirement already satisfied: google-pasta>=0.1.1 in d:\\usa\\dtsc 620\\assignment 1\\env\\lib\\site-packages (from tensorflow-intel==2.11.0->tensorflow) (0.2.0)\n",
      "Requirement already satisfied: wrapt>=1.11.0 in d:\\usa\\dtsc 620\\assignment 1\\env\\lib\\site-packages (from tensorflow-intel==2.11.0->tensorflow) (1.14.1)\n",
      "Requirement already satisfied: typing-extensions>=3.6.6 in d:\\usa\\dtsc 620\\assignment 1\\env\\lib\\site-packages (from tensorflow-intel==2.11.0->tensorflow) (4.4.0)\n",
      "Requirement already satisfied: tensorflow-estimator<2.12,>=2.11.0 in d:\\usa\\dtsc 620\\assignment 1\\env\\lib\\site-packages (from tensorflow-intel==2.11.0->tensorflow) (2.11.0)\n",
      "Requirement already satisfied: tensorboard<2.12,>=2.11 in d:\\usa\\dtsc 620\\assignment 1\\env\\lib\\site-packages (from tensorflow-intel==2.11.0->tensorflow) (2.11.0)\n",
      "Requirement already satisfied: libclang>=13.0.0 in d:\\usa\\dtsc 620\\assignment 1\\env\\lib\\site-packages (from tensorflow-intel==2.11.0->tensorflow) (14.0.6)\n",
      "Requirement already satisfied: protobuf<3.20,>=3.9.2 in d:\\usa\\dtsc 620\\assignment 1\\env\\lib\\site-packages (from tensorflow-intel==2.11.0->tensorflow) (3.19.6)\n",
      "Requirement already satisfied: flatbuffers>=2.0 in d:\\usa\\dtsc 620\\assignment 1\\env\\lib\\site-packages (from tensorflow-intel==2.11.0->tensorflow) (22.10.26)\n",
      "Requirement already satisfied: six>=1.12.0 in d:\\usa\\dtsc 620\\assignment 1\\env\\lib\\site-packages (from tensorflow-intel==2.11.0->tensorflow) (1.16.0)\n",
      "Requirement already satisfied: h5py>=2.9.0 in d:\\usa\\dtsc 620\\assignment 1\\env\\lib\\site-packages (from tensorflow-intel==2.11.0->tensorflow) (3.7.0)\n",
      "Requirement already satisfied: wheel<1.0,>=0.23.0 in d:\\usa\\dtsc 620\\assignment 1\\env\\lib\\site-packages (from astunparse>=1.6.0->tensorflow-intel==2.11.0->tensorflow) (0.37.1)\n",
      "Requirement already satisfied: google-auth<3,>=1.6.3 in d:\\usa\\dtsc 620\\assignment 1\\env\\lib\\site-packages (from tensorboard<2.12,>=2.11->tensorflow-intel==2.11.0->tensorflow) (2.13.0)\n",
      "Requirement already satisfied: tensorboard-data-server<0.7.0,>=0.6.0 in d:\\usa\\dtsc 620\\assignment 1\\env\\lib\\site-packages (from tensorboard<2.12,>=2.11->tensorflow-intel==2.11.0->tensorflow) (0.6.1)\n",
      "Requirement already satisfied: google-auth-oauthlib<0.5,>=0.4.1 in d:\\usa\\dtsc 620\\assignment 1\\env\\lib\\site-packages (from tensorboard<2.12,>=2.11->tensorflow-intel==2.11.0->tensorflow) (0.4.6)\n",
      "Requirement already satisfied: werkzeug>=1.0.1 in d:\\usa\\dtsc 620\\assignment 1\\env\\lib\\site-packages (from tensorboard<2.12,>=2.11->tensorflow-intel==2.11.0->tensorflow) (2.2.2)\n",
      "Requirement already satisfied: markdown>=2.6.8 in d:\\usa\\dtsc 620\\assignment 1\\env\\lib\\site-packages (from tensorboard<2.12,>=2.11->tensorflow-intel==2.11.0->tensorflow) (3.4.1)\n",
      "Requirement already satisfied: tensorboard-plugin-wit>=1.6.0 in d:\\usa\\dtsc 620\\assignment 1\\env\\lib\\site-packages (from tensorboard<2.12,>=2.11->tensorflow-intel==2.11.0->tensorflow) (1.8.1)\n",
      "Requirement already satisfied: requests<3,>=2.21.0 in d:\\usa\\dtsc 620\\assignment 1\\env\\lib\\site-packages (from tensorboard<2.12,>=2.11->tensorflow-intel==2.11.0->tensorflow) (2.28.1)\n",
      "Requirement already satisfied: pyparsing!=3.0.5,>=2.0.2 in d:\\usa\\dtsc 620\\assignment 1\\env\\lib\\site-packages (from packaging->tensorflow-intel==2.11.0->tensorflow) (3.0.9)\n",
      "Requirement already satisfied: pyasn1-modules>=0.2.1 in d:\\usa\\dtsc 620\\assignment 1\\env\\lib\\site-packages (from google-auth<3,>=1.6.3->tensorboard<2.12,>=2.11->tensorflow-intel==2.11.0->tensorflow) (0.2.8)\n",
      "Requirement already satisfied: rsa<5,>=3.1.4 in d:\\usa\\dtsc 620\\assignment 1\\env\\lib\\site-packages (from google-auth<3,>=1.6.3->tensorboard<2.12,>=2.11->tensorflow-intel==2.11.0->tensorflow) (4.9)\n",
      "Requirement already satisfied: cachetools<6.0,>=2.0.0 in d:\\usa\\dtsc 620\\assignment 1\\env\\lib\\site-packages (from google-auth<3,>=1.6.3->tensorboard<2.12,>=2.11->tensorflow-intel==2.11.0->tensorflow) (5.2.0)\n",
      "Requirement already satisfied: requests-oauthlib>=0.7.0 in d:\\usa\\dtsc 620\\assignment 1\\env\\lib\\site-packages (from google-auth-oauthlib<0.5,>=0.4.1->tensorboard<2.12,>=2.11->tensorflow-intel==2.11.0->tensorflow) (1.3.1)\n",
      "Requirement already satisfied: charset-normalizer<3,>=2 in d:\\usa\\dtsc 620\\assignment 1\\env\\lib\\site-packages (from requests<3,>=2.21.0->tensorboard<2.12,>=2.11->tensorflow-intel==2.11.0->tensorflow) (2.1.1)\n",
      "Requirement already satisfied: certifi>=2017.4.17 in d:\\usa\\dtsc 620\\assignment 1\\env\\lib\\site-packages (from requests<3,>=2.21.0->tensorboard<2.12,>=2.11->tensorflow-intel==2.11.0->tensorflow) (2022.9.24)\n",
      "Requirement already satisfied: urllib3<1.27,>=1.21.1 in d:\\usa\\dtsc 620\\assignment 1\\env\\lib\\site-packages (from requests<3,>=2.21.0->tensorboard<2.12,>=2.11->tensorflow-intel==2.11.0->tensorflow) (1.26.12)\n",
      "Requirement already satisfied: idna<4,>=2.5 in d:\\usa\\dtsc 620\\assignment 1\\env\\lib\\site-packages (from requests<3,>=2.21.0->tensorboard<2.12,>=2.11->tensorflow-intel==2.11.0->tensorflow) (3.4)\n",
      "Requirement already satisfied: MarkupSafe>=2.1.1 in d:\\usa\\dtsc 620\\assignment 1\\env\\lib\\site-packages (from werkzeug>=1.0.1->tensorboard<2.12,>=2.11->tensorflow-intel==2.11.0->tensorflow) (2.1.1)\n",
      "Requirement already satisfied: pyasn1<0.5.0,>=0.4.6 in d:\\usa\\dtsc 620\\assignment 1\\env\\lib\\site-packages (from pyasn1-modules>=0.2.1->google-auth<3,>=1.6.3->tensorboard<2.12,>=2.11->tensorflow-intel==2.11.0->tensorflow) (0.4.8)\n",
      "Requirement already satisfied: oauthlib>=3.0.0 in d:\\usa\\dtsc 620\\assignment 1\\env\\lib\\site-packages (from requests-oauthlib>=0.7.0->google-auth-oauthlib<0.5,>=0.4.1->tensorboard<2.12,>=2.11->tensorflow-intel==2.11.0->tensorflow) (3.2.2)\n"
     ]
    },
    {
     "name": "stderr",
     "output_type": "stream",
     "text": [
      "\n",
      "[notice] A new release of pip available: 22.3 -> 22.3.1\n",
      "[notice] To update, run: python.exe -m pip install --upgrade pip\n"
     ]
    }
   ],
   "source": [
    "!pip install --upgrade tensorflow"
   ]
  },
  {
   "cell_type": "code",
   "execution_count": 2,
   "id": "7c6b4e61",
   "metadata": {},
   "outputs": [
    {
     "name": "stdout",
     "output_type": "stream",
     "text": [
      "['D:\\\\USA\\\\DTSC 620\\\\Assignment 1', 'C:\\\\Python310\\\\python310.zip', 'C:\\\\Python310\\\\DLLs', 'C:\\\\Python310\\\\lib', 'C:\\\\Python310', 'D:\\\\USA\\\\DTSC 620\\\\Assignment 1\\\\env', '', 'D:\\\\USA\\\\DTSC 620\\\\Assignment 1\\\\env\\\\lib\\\\site-packages', 'D:\\\\USA\\\\DTSC 620\\\\Assignment 1\\\\env\\\\lib\\\\site-packages\\\\win32', 'D:\\\\USA\\\\DTSC 620\\\\Assignment 1\\\\env\\\\lib\\\\site-packages\\\\win32\\\\lib', 'D:\\\\USA\\\\DTSC 620\\\\Assignment 1\\\\env\\\\lib\\\\site-packages\\\\Pythonwin']\n"
     ]
    }
   ],
   "source": [
    "import sys\n",
    "print(sys.path)"
   ]
  },
  {
   "cell_type": "code",
   "execution_count": 3,
   "id": "0621bd3b",
   "metadata": {},
   "outputs": [
    {
     "data": {
      "text/plain": [
       "'D:\\\\USA\\\\DTSC 620\\\\Assignment 1'"
      ]
     },
     "execution_count": 3,
     "metadata": {},
     "output_type": "execute_result"
    }
   ],
   "source": [
    "from __future__ import print_function\n",
    "import pandas as pd\n",
    "pd.__version__\n",
    "%matplotlib inline\n",
    "import matplotlib.pyplot as plt\n",
    "import os\n",
    "os.getcwd()\n",
    "#The getcwd method which is imported from os library used\n",
    "#get the current working directory of the process. These\n",
    "#returns string\n",
    "#print(type(os.getcwd()))"
   ]
  },
  {
   "cell_type": "code",
   "execution_count": 4,
   "id": "d93b97dd",
   "metadata": {},
   "outputs": [
    {
     "name": "stdout",
     "output_type": "stream",
     "text": [
      "Dataset loaded!!!!\n"
     ]
    }
   ],
   "source": [
    "email_dataset_dataframe = pd.read_csv(os.getcwd() + '/spam.data',sep = ' ')\n",
    "#pandas read_csv method is used to read csv file and returns the dataFrame\n",
    "#The pandas dataFrame class is basically the 2 dimensional tabular data which\n",
    "#is hetrogenous(data in row are related and column are not).\n",
    "print(\"Dataset loaded!!!!\")\n"
   ]
  },
  {
   "cell_type": "code",
   "execution_count": 5,
   "id": "19c39073",
   "metadata": {},
   "outputs": [
    {
     "data": {
      "text/html": [
       "<div>\n",
       "<style scoped>\n",
       "    .dataframe tbody tr th:only-of-type {\n",
       "        vertical-align: middle;\n",
       "    }\n",
       "\n",
       "    .dataframe tbody tr th {\n",
       "        vertical-align: top;\n",
       "    }\n",
       "\n",
       "    .dataframe thead th {\n",
       "        text-align: right;\n",
       "    }\n",
       "</style>\n",
       "<table border=\"1\" class=\"dataframe\">\n",
       "  <thead>\n",
       "    <tr style=\"text-align: right;\">\n",
       "      <th></th>\n",
       "      <th>make</th>\n",
       "      <th>address</th>\n",
       "      <th>all</th>\n",
       "      <th>3d</th>\n",
       "      <th>our</th>\n",
       "      <th>over</th>\n",
       "      <th>remove</th>\n",
       "      <th>internet</th>\n",
       "      <th>order</th>\n",
       "      <th>mail</th>\n",
       "      <th>...</th>\n",
       "      <th>semicol</th>\n",
       "      <th>paren</th>\n",
       "      <th>bracket</th>\n",
       "      <th>bang</th>\n",
       "      <th>dollar</th>\n",
       "      <th>pound</th>\n",
       "      <th>cap_avg</th>\n",
       "      <th>cap_long</th>\n",
       "      <th>cap_total</th>\n",
       "      <th>Class</th>\n",
       "    </tr>\n",
       "  </thead>\n",
       "  <tbody>\n",
       "    <tr>\n",
       "      <th>0</th>\n",
       "      <td>0.00</td>\n",
       "      <td>0.00</td>\n",
       "      <td>0.29</td>\n",
       "      <td>0.0</td>\n",
       "      <td>0.00</td>\n",
       "      <td>0.00</td>\n",
       "      <td>0.00</td>\n",
       "      <td>0.00</td>\n",
       "      <td>0.00</td>\n",
       "      <td>0.00</td>\n",
       "      <td>...</td>\n",
       "      <td>0.000</td>\n",
       "      <td>0.178</td>\n",
       "      <td>0.0</td>\n",
       "      <td>0.044</td>\n",
       "      <td>0.000</td>\n",
       "      <td>0.00</td>\n",
       "      <td>1.666</td>\n",
       "      <td>10</td>\n",
       "      <td>180</td>\n",
       "      <td>ham</td>\n",
       "    </tr>\n",
       "    <tr>\n",
       "      <th>1</th>\n",
       "      <td>0.46</td>\n",
       "      <td>0.00</td>\n",
       "      <td>0.00</td>\n",
       "      <td>0.0</td>\n",
       "      <td>0.00</td>\n",
       "      <td>0.00</td>\n",
       "      <td>0.00</td>\n",
       "      <td>0.00</td>\n",
       "      <td>0.00</td>\n",
       "      <td>0.00</td>\n",
       "      <td>...</td>\n",
       "      <td>0.000</td>\n",
       "      <td>0.125</td>\n",
       "      <td>0.0</td>\n",
       "      <td>0.000</td>\n",
       "      <td>0.000</td>\n",
       "      <td>0.00</td>\n",
       "      <td>1.510</td>\n",
       "      <td>10</td>\n",
       "      <td>74</td>\n",
       "      <td>ham</td>\n",
       "    </tr>\n",
       "    <tr>\n",
       "      <th>2</th>\n",
       "      <td>0.00</td>\n",
       "      <td>0.00</td>\n",
       "      <td>0.00</td>\n",
       "      <td>0.0</td>\n",
       "      <td>0.00</td>\n",
       "      <td>0.00</td>\n",
       "      <td>0.00</td>\n",
       "      <td>0.00</td>\n",
       "      <td>0.00</td>\n",
       "      <td>0.00</td>\n",
       "      <td>...</td>\n",
       "      <td>0.000</td>\n",
       "      <td>0.000</td>\n",
       "      <td>0.0</td>\n",
       "      <td>0.000</td>\n",
       "      <td>0.000</td>\n",
       "      <td>0.00</td>\n",
       "      <td>1.718</td>\n",
       "      <td>11</td>\n",
       "      <td>55</td>\n",
       "      <td>ham</td>\n",
       "    </tr>\n",
       "    <tr>\n",
       "      <th>3</th>\n",
       "      <td>0.33</td>\n",
       "      <td>0.44</td>\n",
       "      <td>0.37</td>\n",
       "      <td>0.0</td>\n",
       "      <td>0.14</td>\n",
       "      <td>0.11</td>\n",
       "      <td>0.00</td>\n",
       "      <td>0.07</td>\n",
       "      <td>0.97</td>\n",
       "      <td>1.16</td>\n",
       "      <td>...</td>\n",
       "      <td>0.006</td>\n",
       "      <td>0.159</td>\n",
       "      <td>0.0</td>\n",
       "      <td>0.069</td>\n",
       "      <td>0.221</td>\n",
       "      <td>0.11</td>\n",
       "      <td>3.426</td>\n",
       "      <td>72</td>\n",
       "      <td>819</td>\n",
       "      <td>spam</td>\n",
       "    </tr>\n",
       "    <tr>\n",
       "      <th>4</th>\n",
       "      <td>0.00</td>\n",
       "      <td>2.08</td>\n",
       "      <td>0.00</td>\n",
       "      <td>0.0</td>\n",
       "      <td>3.12</td>\n",
       "      <td>0.00</td>\n",
       "      <td>1.04</td>\n",
       "      <td>0.00</td>\n",
       "      <td>0.00</td>\n",
       "      <td>0.00</td>\n",
       "      <td>...</td>\n",
       "      <td>0.000</td>\n",
       "      <td>0.000</td>\n",
       "      <td>0.0</td>\n",
       "      <td>0.263</td>\n",
       "      <td>0.000</td>\n",
       "      <td>0.00</td>\n",
       "      <td>1.428</td>\n",
       "      <td>4</td>\n",
       "      <td>20</td>\n",
       "      <td>spam</td>\n",
       "    </tr>\n",
       "    <tr>\n",
       "      <th>5</th>\n",
       "      <td>0.00</td>\n",
       "      <td>0.00</td>\n",
       "      <td>0.27</td>\n",
       "      <td>0.0</td>\n",
       "      <td>0.81</td>\n",
       "      <td>0.81</td>\n",
       "      <td>0.00</td>\n",
       "      <td>2.98</td>\n",
       "      <td>0.54</td>\n",
       "      <td>0.81</td>\n",
       "      <td>...</td>\n",
       "      <td>0.000</td>\n",
       "      <td>0.040</td>\n",
       "      <td>0.0</td>\n",
       "      <td>0.565</td>\n",
       "      <td>0.121</td>\n",
       "      <td>0.00</td>\n",
       "      <td>1.617</td>\n",
       "      <td>18</td>\n",
       "      <td>131</td>\n",
       "      <td>spam</td>\n",
       "    </tr>\n",
       "  </tbody>\n",
       "</table>\n",
       "<p>6 rows × 58 columns</p>\n",
       "</div>"
      ],
      "text/plain": [
       "   make  address   all   3d   our  over  remove  internet  order  mail  ...  \\\n",
       "0  0.00     0.00  0.29  0.0  0.00  0.00    0.00      0.00   0.00  0.00  ...   \n",
       "1  0.46     0.00  0.00  0.0  0.00  0.00    0.00      0.00   0.00  0.00  ...   \n",
       "2  0.00     0.00  0.00  0.0  0.00  0.00    0.00      0.00   0.00  0.00  ...   \n",
       "3  0.33     0.44  0.37  0.0  0.14  0.11    0.00      0.07   0.97  1.16  ...   \n",
       "4  0.00     2.08  0.00  0.0  3.12  0.00    1.04      0.00   0.00  0.00  ...   \n",
       "5  0.00     0.00  0.27  0.0  0.81  0.81    0.00      2.98   0.54  0.81  ...   \n",
       "\n",
       "   semicol  paren  bracket   bang  dollar  pound  cap_avg  cap_long  \\\n",
       "0    0.000  0.178      0.0  0.044   0.000   0.00    1.666        10   \n",
       "1    0.000  0.125      0.0  0.000   0.000   0.00    1.510        10   \n",
       "2    0.000  0.000      0.0  0.000   0.000   0.00    1.718        11   \n",
       "3    0.006  0.159      0.0  0.069   0.221   0.11    3.426        72   \n",
       "4    0.000  0.000      0.0  0.263   0.000   0.00    1.428         4   \n",
       "5    0.000  0.040      0.0  0.565   0.121   0.00    1.617        18   \n",
       "\n",
       "   cap_total  Class  \n",
       "0        180    ham  \n",
       "1         74    ham  \n",
       "2         55    ham  \n",
       "3        819   spam  \n",
       "4         20   spam  \n",
       "5        131   spam  \n",
       "\n",
       "[6 rows x 58 columns]"
      ]
     },
     "execution_count": 5,
     "metadata": {},
     "output_type": "execute_result"
    }
   ],
   "source": [
    "# email_dataset_dataframe.head()\n",
    "#The dataframe.head() returns the first n rows of\n",
    "#dataset by default it is 5 but we can enter any number.\n",
    "email_dataset_dataframe.head(6)\n",
    "# These will give first 10 rows of the dataset"
   ]
  },
  {
   "cell_type": "code",
   "execution_count": 6,
   "id": "d5be6d01",
   "metadata": {},
   "outputs": [
    {
     "data": {
      "text/html": [
       "<div>\n",
       "<style scoped>\n",
       "    .dataframe tbody tr th:only-of-type {\n",
       "        vertical-align: middle;\n",
       "    }\n",
       "\n",
       "    .dataframe tbody tr th {\n",
       "        vertical-align: top;\n",
       "    }\n",
       "\n",
       "    .dataframe thead th {\n",
       "        text-align: right;\n",
       "    }\n",
       "</style>\n",
       "<table border=\"1\" class=\"dataframe\">\n",
       "  <thead>\n",
       "    <tr style=\"text-align: right;\">\n",
       "      <th></th>\n",
       "      <th>make</th>\n",
       "      <th>address</th>\n",
       "      <th>all</th>\n",
       "      <th>3d</th>\n",
       "      <th>our</th>\n",
       "      <th>over</th>\n",
       "      <th>remove</th>\n",
       "      <th>internet</th>\n",
       "      <th>order</th>\n",
       "      <th>mail</th>\n",
       "      <th>...</th>\n",
       "      <th>semicol</th>\n",
       "      <th>paren</th>\n",
       "      <th>bracket</th>\n",
       "      <th>bang</th>\n",
       "      <th>dollar</th>\n",
       "      <th>pound</th>\n",
       "      <th>cap_avg</th>\n",
       "      <th>cap_long</th>\n",
       "      <th>cap_total</th>\n",
       "      <th>Class</th>\n",
       "    </tr>\n",
       "  </thead>\n",
       "  <tbody>\n",
       "    <tr>\n",
       "      <th>50</th>\n",
       "      <td>2.77</td>\n",
       "      <td>0.00</td>\n",
       "      <td>0.00</td>\n",
       "      <td>0.0</td>\n",
       "      <td>0.00</td>\n",
       "      <td>0.00</td>\n",
       "      <td>0.0</td>\n",
       "      <td>0.0</td>\n",
       "      <td>0.0</td>\n",
       "      <td>0.00</td>\n",
       "      <td>...</td>\n",
       "      <td>0.0</td>\n",
       "      <td>0.000</td>\n",
       "      <td>0.0</td>\n",
       "      <td>0.213</td>\n",
       "      <td>0.000</td>\n",
       "      <td>0.000</td>\n",
       "      <td>1.750</td>\n",
       "      <td>6</td>\n",
       "      <td>49</td>\n",
       "      <td>ham</td>\n",
       "    </tr>\n",
       "    <tr>\n",
       "      <th>60</th>\n",
       "      <td>0.00</td>\n",
       "      <td>0.00</td>\n",
       "      <td>0.00</td>\n",
       "      <td>0.0</td>\n",
       "      <td>0.00</td>\n",
       "      <td>0.14</td>\n",
       "      <td>0.0</td>\n",
       "      <td>0.0</td>\n",
       "      <td>0.0</td>\n",
       "      <td>0.14</td>\n",
       "      <td>...</td>\n",
       "      <td>0.0</td>\n",
       "      <td>0.297</td>\n",
       "      <td>0.0</td>\n",
       "      <td>0.000</td>\n",
       "      <td>0.000</td>\n",
       "      <td>0.000</td>\n",
       "      <td>1.803</td>\n",
       "      <td>27</td>\n",
       "      <td>238</td>\n",
       "      <td>ham</td>\n",
       "    </tr>\n",
       "    <tr>\n",
       "      <th>70</th>\n",
       "      <td>0.00</td>\n",
       "      <td>0.49</td>\n",
       "      <td>0.49</td>\n",
       "      <td>0.0</td>\n",
       "      <td>1.49</td>\n",
       "      <td>0.00</td>\n",
       "      <td>0.0</td>\n",
       "      <td>0.0</td>\n",
       "      <td>0.0</td>\n",
       "      <td>0.99</td>\n",
       "      <td>...</td>\n",
       "      <td>0.0</td>\n",
       "      <td>0.078</td>\n",
       "      <td>0.0</td>\n",
       "      <td>0.625</td>\n",
       "      <td>0.312</td>\n",
       "      <td>0.000</td>\n",
       "      <td>4.750</td>\n",
       "      <td>47</td>\n",
       "      <td>190</td>\n",
       "      <td>spam</td>\n",
       "    </tr>\n",
       "    <tr>\n",
       "      <th>80</th>\n",
       "      <td>0.00</td>\n",
       "      <td>0.00</td>\n",
       "      <td>0.00</td>\n",
       "      <td>0.0</td>\n",
       "      <td>0.00</td>\n",
       "      <td>0.00</td>\n",
       "      <td>0.0</td>\n",
       "      <td>0.0</td>\n",
       "      <td>0.0</td>\n",
       "      <td>0.00</td>\n",
       "      <td>...</td>\n",
       "      <td>0.0</td>\n",
       "      <td>0.421</td>\n",
       "      <td>0.0</td>\n",
       "      <td>0.210</td>\n",
       "      <td>0.632</td>\n",
       "      <td>0.000</td>\n",
       "      <td>3.750</td>\n",
       "      <td>15</td>\n",
       "      <td>60</td>\n",
       "      <td>spam</td>\n",
       "    </tr>\n",
       "    <tr>\n",
       "      <th>90</th>\n",
       "      <td>0.79</td>\n",
       "      <td>0.00</td>\n",
       "      <td>0.79</td>\n",
       "      <td>0.0</td>\n",
       "      <td>0.79</td>\n",
       "      <td>0.00</td>\n",
       "      <td>0.0</td>\n",
       "      <td>0.0</td>\n",
       "      <td>0.0</td>\n",
       "      <td>0.00</td>\n",
       "      <td>...</td>\n",
       "      <td>0.0</td>\n",
       "      <td>0.000</td>\n",
       "      <td>0.0</td>\n",
       "      <td>0.000</td>\n",
       "      <td>0.000</td>\n",
       "      <td>0.147</td>\n",
       "      <td>1.166</td>\n",
       "      <td>4</td>\n",
       "      <td>42</td>\n",
       "      <td>ham</td>\n",
       "    </tr>\n",
       "  </tbody>\n",
       "</table>\n",
       "<p>5 rows × 58 columns</p>\n",
       "</div>"
      ],
      "text/plain": [
       "    make  address   all   3d   our  over  remove  internet  order  mail  ...  \\\n",
       "50  2.77     0.00  0.00  0.0  0.00  0.00     0.0       0.0    0.0  0.00  ...   \n",
       "60  0.00     0.00  0.00  0.0  0.00  0.14     0.0       0.0    0.0  0.14  ...   \n",
       "70  0.00     0.49  0.49  0.0  1.49  0.00     0.0       0.0    0.0  0.99  ...   \n",
       "80  0.00     0.00  0.00  0.0  0.00  0.00     0.0       0.0    0.0  0.00  ...   \n",
       "90  0.79     0.00  0.79  0.0  0.79  0.00     0.0       0.0    0.0  0.00  ...   \n",
       "\n",
       "    semicol  paren  bracket   bang  dollar  pound  cap_avg  cap_long  \\\n",
       "50      0.0  0.000      0.0  0.213   0.000  0.000    1.750         6   \n",
       "60      0.0  0.297      0.0  0.000   0.000  0.000    1.803        27   \n",
       "70      0.0  0.078      0.0  0.625   0.312  0.000    4.750        47   \n",
       "80      0.0  0.421      0.0  0.210   0.632  0.000    3.750        15   \n",
       "90      0.0  0.000      0.0  0.000   0.000  0.147    1.166         4   \n",
       "\n",
       "    cap_total  Class  \n",
       "50         49    ham  \n",
       "60        238    ham  \n",
       "70        190   spam  \n",
       "80         60   spam  \n",
       "90         42    ham  \n",
       "\n",
       "[5 rows x 58 columns]"
      ]
     },
     "execution_count": 6,
     "metadata": {},
     "output_type": "execute_result"
    }
   ],
   "source": [
    "# email_dataset_dataframe.iloc[0:3]\n",
    "# This is also type of data retrive method like head\n",
    "# Unlike head iloc will take start:end:step means index based\n",
    "# data retrive.\n",
    "email_dataset_dataframe.iloc[50:100:10]"
   ]
  },
  {
   "cell_type": "code",
   "execution_count": 7,
   "id": "bc38df0a",
   "metadata": {},
   "outputs": [
    {
     "data": {
      "text/plain": [
       "array([[<AxesSubplot: title={'center': 'make'}>,\n",
       "        <AxesSubplot: title={'center': 'address'}>,\n",
       "        <AxesSubplot: title={'center': 'all'}>,\n",
       "        <AxesSubplot: title={'center': '3d'}>,\n",
       "        <AxesSubplot: title={'center': 'our'}>,\n",
       "        <AxesSubplot: title={'center': 'over'}>,\n",
       "        <AxesSubplot: title={'center': 'remove'}>,\n",
       "        <AxesSubplot: title={'center': 'internet'}>],\n",
       "       [<AxesSubplot: title={'center': 'order'}>,\n",
       "        <AxesSubplot: title={'center': 'mail'}>,\n",
       "        <AxesSubplot: title={'center': 'receive'}>,\n",
       "        <AxesSubplot: title={'center': 'will'}>,\n",
       "        <AxesSubplot: title={'center': 'people'}>,\n",
       "        <AxesSubplot: title={'center': 'report'}>,\n",
       "        <AxesSubplot: title={'center': 'addresses'}>,\n",
       "        <AxesSubplot: title={'center': 'free'}>],\n",
       "       [<AxesSubplot: title={'center': 'business'}>,\n",
       "        <AxesSubplot: title={'center': 'email'}>,\n",
       "        <AxesSubplot: title={'center': 'you'}>,\n",
       "        <AxesSubplot: title={'center': 'credit'}>,\n",
       "        <AxesSubplot: title={'center': 'your'}>,\n",
       "        <AxesSubplot: title={'center': 'font'}>,\n",
       "        <AxesSubplot: title={'center': '000'}>,\n",
       "        <AxesSubplot: title={'center': 'money'}>],\n",
       "       [<AxesSubplot: title={'center': 'hp'}>,\n",
       "        <AxesSubplot: title={'center': 'hpl'}>,\n",
       "        <AxesSubplot: title={'center': 'george'}>,\n",
       "        <AxesSubplot: title={'center': '650'}>,\n",
       "        <AxesSubplot: title={'center': 'lab'}>,\n",
       "        <AxesSubplot: title={'center': 'labs'}>,\n",
       "        <AxesSubplot: title={'center': 'telnet'}>,\n",
       "        <AxesSubplot: title={'center': '857'}>],\n",
       "       [<AxesSubplot: title={'center': 'data'}>,\n",
       "        <AxesSubplot: title={'center': '415'}>,\n",
       "        <AxesSubplot: title={'center': '85'}>,\n",
       "        <AxesSubplot: title={'center': 'technology'}>,\n",
       "        <AxesSubplot: title={'center': '1999'}>,\n",
       "        <AxesSubplot: title={'center': 'parts'}>,\n",
       "        <AxesSubplot: title={'center': 'pm'}>,\n",
       "        <AxesSubplot: title={'center': 'direct'}>],\n",
       "       [<AxesSubplot: title={'center': 'cs'}>,\n",
       "        <AxesSubplot: title={'center': 'meeting'}>,\n",
       "        <AxesSubplot: title={'center': 'original'}>,\n",
       "        <AxesSubplot: title={'center': 'project'}>,\n",
       "        <AxesSubplot: title={'center': 're'}>,\n",
       "        <AxesSubplot: title={'center': 'edu'}>,\n",
       "        <AxesSubplot: title={'center': 'table'}>,\n",
       "        <AxesSubplot: title={'center': 'conference'}>],\n",
       "       [<AxesSubplot: title={'center': 'semicol'}>,\n",
       "        <AxesSubplot: title={'center': 'paren'}>,\n",
       "        <AxesSubplot: title={'center': 'bracket'}>,\n",
       "        <AxesSubplot: title={'center': 'bang'}>,\n",
       "        <AxesSubplot: title={'center': 'dollar'}>,\n",
       "        <AxesSubplot: title={'center': 'pound'}>,\n",
       "        <AxesSubplot: title={'center': 'cap_avg'}>,\n",
       "        <AxesSubplot: title={'center': 'cap_long'}>],\n",
       "       [<AxesSubplot: title={'center': 'cap_total'}>, <AxesSubplot: >,\n",
       "        <AxesSubplot: >, <AxesSubplot: >, <AxesSubplot: >,\n",
       "        <AxesSubplot: >, <AxesSubplot: >, <AxesSubplot: >]], dtype=object)"
      ]
     },
     "execution_count": 7,
     "metadata": {},
     "output_type": "execute_result"
    },
    {
     "data": {
      "image/png": "[encoded data removed]",
      "text/plain": [
       "<Figure size 1500x1000 with 64 Axes>"
      ]
     },
     "metadata": {},
     "output_type": "display_data"
    }
   ],
   "source": [
    "#Plot per feature histogram. figsize = (width, height)\n",
    "email_dataset_dataframe.hist(figsize=(15,10))\n",
    "# dataframe.hist will create the histogram hist method will take\n",
    "# couple of arguments\n",
    "# 1. figsize: (width, height) this is basically the figure size\n",
    "# 2. column: 'column_name' this is helpful when you want specific column's histogram\n",
    "# 3. bins: Is basically the numbers of bars you want to see."
   ]
  },
  {
   "cell_type": "code",
   "execution_count": 8,
   "id": "53e5d478",
   "metadata": {},
   "outputs": [],
   "source": [
    "import numpy as np"
   ]
  },
  {
   "cell_type": "code",
   "execution_count": 9,
   "id": "c0367524",
   "metadata": {},
   "outputs": [],
   "source": [
    "def train_test_split(data,isSplitInPercent,trainPercent,numberOfTrainInstances):\n",
    "    if(isSplitInPercent):\n",
    "        number_of_train_instances = int((trainPercent/100) * len(data))\n",
    "        return data.iloc[:number_of_train_instances],data.iloc[number_of_train_instances:]\n",
    "    else:\n",
    "        return data.iloc[:numberOfTrainInstances],data.iloc[numberOfTrainInstances:]"
   ]
  },
  {
   "cell_type": "code",
   "execution_count": 10,
   "id": "a3c4ca9f",
   "metadata": {},
   "outputs": [],
   "source": [
    "email_training_set,email_test_set = train_test_split(email_dataset_dataframe,False,None,1000)"
   ]
  },
  {
   "cell_type": "code",
   "execution_count": 11,
   "id": "d2105a2b",
   "metadata": {},
   "outputs": [],
   "source": [
    "def data_target_split(dataset):\n",
    "    dataset_klist = dataset.keys()\n",
    "    dataset_klist = dataset_klist.delete(len(dataset_klist) - 1)\n",
    "    return dataset[dataset_klist],dataset[\"Class\"]\n",
    "\n",
    "    \n",
    "# email_training_klist = email_training_set.keys()\n",
    "# email_training_klist = email_training_klist.delete(len(email_training_klist) - 1)\n",
    "# email_test_klist = email_test_set.keys()\n",
    "# email_test_klist = email_test_klist.delete(len(email_test_klist) - 1)\n",
    "# email_training_data,email_training_target = email_training_set[email_training_klist],email_training_set[\"Class\"]\n",
    "# email_test_data,email_test_target = email_test_set[email_test_klist],email_test_set[\"Class\"]\n"
   ]
  },
  {
   "cell_type": "code",
   "execution_count": 12,
   "id": "ab199375",
   "metadata": {},
   "outputs": [],
   "source": [
    "email_training_data,email_training_target = data_target_split(email_training_set)\n",
    "email_test_data,email_test_target = data_target_split(email_test_set)"
   ]
  },
  {
   "cell_type": "code",
   "execution_count": 13,
   "id": "8f18fefb",
   "metadata": {},
   "outputs": [
    {
     "data": {
      "text/html": [
       "<div>\n",
       "<style scoped>\n",
       "    .dataframe tbody tr th:only-of-type {\n",
       "        vertical-align: middle;\n",
       "    }\n",
       "\n",
       "    .dataframe tbody tr th {\n",
       "        vertical-align: top;\n",
       "    }\n",
       "\n",
       "    .dataframe thead th {\n",
       "        text-align: right;\n",
       "    }\n",
       "</style>\n",
       "<table border=\"1\" class=\"dataframe\">\n",
       "  <thead>\n",
       "    <tr style=\"text-align: right;\">\n",
       "      <th></th>\n",
       "      <th>make</th>\n",
       "      <th>address</th>\n",
       "      <th>all</th>\n",
       "      <th>3d</th>\n",
       "      <th>our</th>\n",
       "      <th>over</th>\n",
       "      <th>remove</th>\n",
       "      <th>internet</th>\n",
       "      <th>order</th>\n",
       "      <th>mail</th>\n",
       "      <th>...</th>\n",
       "      <th>conference</th>\n",
       "      <th>semicol</th>\n",
       "      <th>paren</th>\n",
       "      <th>bracket</th>\n",
       "      <th>bang</th>\n",
       "      <th>dollar</th>\n",
       "      <th>pound</th>\n",
       "      <th>cap_avg</th>\n",
       "      <th>cap_long</th>\n",
       "      <th>cap_total</th>\n",
       "    </tr>\n",
       "  </thead>\n",
       "  <tbody>\n",
       "    <tr>\n",
       "      <th>0</th>\n",
       "      <td>0.00</td>\n",
       "      <td>0.00</td>\n",
       "      <td>0.29</td>\n",
       "      <td>0.0</td>\n",
       "      <td>0.00</td>\n",
       "      <td>0.00</td>\n",
       "      <td>0.00</td>\n",
       "      <td>0.00</td>\n",
       "      <td>0.00</td>\n",
       "      <td>0.00</td>\n",
       "      <td>...</td>\n",
       "      <td>0.0</td>\n",
       "      <td>0.000</td>\n",
       "      <td>0.178</td>\n",
       "      <td>0.0</td>\n",
       "      <td>0.044</td>\n",
       "      <td>0.000</td>\n",
       "      <td>0.00</td>\n",
       "      <td>1.666</td>\n",
       "      <td>10</td>\n",
       "      <td>180</td>\n",
       "    </tr>\n",
       "    <tr>\n",
       "      <th>1</th>\n",
       "      <td>0.46</td>\n",
       "      <td>0.00</td>\n",
       "      <td>0.00</td>\n",
       "      <td>0.0</td>\n",
       "      <td>0.00</td>\n",
       "      <td>0.00</td>\n",
       "      <td>0.00</td>\n",
       "      <td>0.00</td>\n",
       "      <td>0.00</td>\n",
       "      <td>0.00</td>\n",
       "      <td>...</td>\n",
       "      <td>0.0</td>\n",
       "      <td>0.000</td>\n",
       "      <td>0.125</td>\n",
       "      <td>0.0</td>\n",
       "      <td>0.000</td>\n",
       "      <td>0.000</td>\n",
       "      <td>0.00</td>\n",
       "      <td>1.510</td>\n",
       "      <td>10</td>\n",
       "      <td>74</td>\n",
       "    </tr>\n",
       "    <tr>\n",
       "      <th>2</th>\n",
       "      <td>0.00</td>\n",
       "      <td>0.00</td>\n",
       "      <td>0.00</td>\n",
       "      <td>0.0</td>\n",
       "      <td>0.00</td>\n",
       "      <td>0.00</td>\n",
       "      <td>0.00</td>\n",
       "      <td>0.00</td>\n",
       "      <td>0.00</td>\n",
       "      <td>0.00</td>\n",
       "      <td>...</td>\n",
       "      <td>0.0</td>\n",
       "      <td>0.000</td>\n",
       "      <td>0.000</td>\n",
       "      <td>0.0</td>\n",
       "      <td>0.000</td>\n",
       "      <td>0.000</td>\n",
       "      <td>0.00</td>\n",
       "      <td>1.718</td>\n",
       "      <td>11</td>\n",
       "      <td>55</td>\n",
       "    </tr>\n",
       "    <tr>\n",
       "      <th>3</th>\n",
       "      <td>0.33</td>\n",
       "      <td>0.44</td>\n",
       "      <td>0.37</td>\n",
       "      <td>0.0</td>\n",
       "      <td>0.14</td>\n",
       "      <td>0.11</td>\n",
       "      <td>0.00</td>\n",
       "      <td>0.07</td>\n",
       "      <td>0.97</td>\n",
       "      <td>1.16</td>\n",
       "      <td>...</td>\n",
       "      <td>0.0</td>\n",
       "      <td>0.006</td>\n",
       "      <td>0.159</td>\n",
       "      <td>0.0</td>\n",
       "      <td>0.069</td>\n",
       "      <td>0.221</td>\n",
       "      <td>0.11</td>\n",
       "      <td>3.426</td>\n",
       "      <td>72</td>\n",
       "      <td>819</td>\n",
       "    </tr>\n",
       "    <tr>\n",
       "      <th>4</th>\n",
       "      <td>0.00</td>\n",
       "      <td>2.08</td>\n",
       "      <td>0.00</td>\n",
       "      <td>0.0</td>\n",
       "      <td>3.12</td>\n",
       "      <td>0.00</td>\n",
       "      <td>1.04</td>\n",
       "      <td>0.00</td>\n",
       "      <td>0.00</td>\n",
       "      <td>0.00</td>\n",
       "      <td>...</td>\n",
       "      <td>0.0</td>\n",
       "      <td>0.000</td>\n",
       "      <td>0.000</td>\n",
       "      <td>0.0</td>\n",
       "      <td>0.263</td>\n",
       "      <td>0.000</td>\n",
       "      <td>0.00</td>\n",
       "      <td>1.428</td>\n",
       "      <td>4</td>\n",
       "      <td>20</td>\n",
       "    </tr>\n",
       "  </tbody>\n",
       "</table>\n",
       "<p>5 rows × 57 columns</p>\n",
       "</div>"
      ],
      "text/plain": [
       "   make  address   all   3d   our  over  remove  internet  order  mail  ...  \\\n",
       "0  0.00     0.00  0.29  0.0  0.00  0.00    0.00      0.00   0.00  0.00  ...   \n",
       "1  0.46     0.00  0.00  0.0  0.00  0.00    0.00      0.00   0.00  0.00  ...   \n",
       "2  0.00     0.00  0.00  0.0  0.00  0.00    0.00      0.00   0.00  0.00  ...   \n",
       "3  0.33     0.44  0.37  0.0  0.14  0.11    0.00      0.07   0.97  1.16  ...   \n",
       "4  0.00     2.08  0.00  0.0  3.12  0.00    1.04      0.00   0.00  0.00  ...   \n",
       "\n",
       "   conference  semicol  paren  bracket   bang  dollar  pound  cap_avg  \\\n",
       "0         0.0    0.000  0.178      0.0  0.044   0.000   0.00    1.666   \n",
       "1         0.0    0.000  0.125      0.0  0.000   0.000   0.00    1.510   \n",
       "2         0.0    0.000  0.000      0.0  0.000   0.000   0.00    1.718   \n",
       "3         0.0    0.006  0.159      0.0  0.069   0.221   0.11    3.426   \n",
       "4         0.0    0.000  0.000      0.0  0.263   0.000   0.00    1.428   \n",
       "\n",
       "   cap_long  cap_total  \n",
       "0        10        180  \n",
       "1        10         74  \n",
       "2        11         55  \n",
       "3        72        819  \n",
       "4         4         20  \n",
       "\n",
       "[5 rows x 57 columns]"
      ]
     },
     "execution_count": 13,
     "metadata": {},
     "output_type": "execute_result"
    }
   ],
   "source": [
    "email_training_data.head()"
   ]
  },
  {
   "cell_type": "code",
   "execution_count": 14,
   "id": "c0a9695c",
   "metadata": {},
   "outputs": [],
   "source": [
    "from sklearn.ensemble import RandomForestClassifier\n",
    "from sklearn import tree\n",
    "from sklearn.tree import DecisionTreeClassifier\n",
    "from sklearn.naive_bayes import GaussianNB\n",
    "from sklearn.ensemble import AdaBoostClassifier, VotingClassifier\n",
    "from sklearn.linear_model import LogisticRegression\n",
    "from sklearn.neighbors import KNeighborsClassifier\n",
    "from sklearn.metrics import confusion_matrix\n",
    "from sklearn.metrics import classification_report\n",
    "from sklearn.metrics import accuracy_score"
   ]
  },
  {
   "cell_type": "code",
   "execution_count": 15,
   "id": "de0b41df",
   "metadata": {},
   "outputs": [],
   "source": [
    "clf_dt = DecisionTreeClassifier(criterion = \"entropy\")"
   ]
  },
  {
   "cell_type": "code",
   "execution_count": 16,
   "id": "c8197d85",
   "metadata": {},
   "outputs": [],
   "source": [
    "clf_gnb = GaussianNB()"
   ]
  },
  {
   "cell_type": "code",
   "execution_count": 17,
   "id": "5381959d",
   "metadata": {},
   "outputs": [],
   "source": [
    "clf_lr = LogisticRegression()"
   ]
  },
  {
   "cell_type": "code",
   "execution_count": 18,
   "id": "987b367a",
   "metadata": {},
   "outputs": [],
   "source": [
    "eclf_vc = VotingClassifier(estimators = [('DT',clf_dt),('GNB',clf_gnb),('LR',clf_lr)]) "
   ]
  },
  {
   "cell_type": "code",
   "execution_count": 19,
   "id": "1871a8a0",
   "metadata": {
    "scrolled": true
   },
   "outputs": [
    {
     "name": "stderr",
     "output_type": "stream",
     "text": [
      "D:\\USA\\DTSC 620\\Assignment 1\\env\\lib\\site-packages\\sklearn\\linear_model\\_logistic.py:444: ConvergenceWarning: lbfgs failed to converge (status=1):\n",
      "STOP: TOTAL NO. of ITERATIONS REACHED LIMIT.\n",
      "\n",
      "Increase the number of iterations (max_iter) or scale the data as shown in:\n",
      "    https://scikit-learn.org/stable/modules/preprocessing.html\n",
      "Please also refer to the documentation for alternative solver options:\n",
      "    https://scikit-learn.org/stable/modules/linear_model.html#logistic-regression\n",
      "  n_iter_i = _check_optimize_result(\n"
     ]
    },
    {
     "data": {
      "text/html": [
       "<style>#sk-container-id-1 {color: black;background-color: white;}#sk-container-id-1 pre{padding: 0;}#sk-container-id-1 div.sk-toggleable {background-color: white;}#sk-container-id-1 label.sk-toggleable__label {cursor: pointer;display: block;width: 100%;margin-bottom: 0;padding: 0.3em;box-sizing: border-box;text-align: center;}#sk-container-id-1 label.sk-toggleable__label-arrow:before {content: \"▸\";float: left;margin-right: 0.25em;color: #696969;}#sk-container-id-1 label.sk-toggleable__label-arrow:hover:before {color: black;}#sk-container-id-1 div.sk-estimator:hover label.sk-toggleable__label-arrow:before {color: black;}#sk-container-id-1 div.sk-toggleable__content {max-height: 0;max-width: 0;overflow: hidden;text-align: left;background-color: #f0f8ff;}#sk-container-id-1 div.sk-toggleable__content pre {margin: 0.2em;color: black;border-radius: 0.25em;background-color: #f0f8ff;}#sk-container-id-1 input.sk-toggleable__control:checked~div.sk-toggleable__content {max-height: 200px;max-width: 100%;overflow: auto;}#sk-container-id-1 input.sk-toggleable__control:checked~label.sk-toggleable__label-arrow:before {content: \"▾\";}#sk-container-id-1 div.sk-estimator input.sk-toggleable__control:checked~label.sk-toggleable__label {background-color: #d4ebff;}#sk-container-id-1 div.sk-label input.sk-toggleable__control:checked~label.sk-toggleable__label {background-color: #d4ebff;}#sk-container-id-1 input.sk-hidden--visually {border: 0;clip: rect(1px 1px 1px 1px);clip: rect(1px, 1px, 1px, 1px);height: 1px;margin: -1px;overflow: hidden;padding: 0;position: absolute;width: 1px;}#sk-container-id-1 div.sk-estimator {font-family: monospace;background-color: #f0f8ff;border: 1px dotted black;border-radius: 0.25em;box-sizing: border-box;margin-bottom: 0.5em;}#sk-container-id-1 div.sk-estimator:hover {background-color: #d4ebff;}#sk-container-id-1 div.sk-parallel-item::after {content: \"\";width: 100%;border-bottom: 1px solid gray;flex-grow: 1;}#sk-container-id-1 div.sk-label:hover label.sk-toggleable__label {background-color: #d4ebff;}#sk-container-id-1 div.sk-serial::before {content: \"\";position: absolute;border-left: 1px solid gray;box-sizing: border-box;top: 0;bottom: 0;left: 50%;z-index: 0;}#sk-container-id-1 div.sk-serial {display: flex;flex-direction: column;align-items: center;background-color: white;padding-right: 0.2em;padding-left: 0.2em;position: relative;}#sk-container-id-1 div.sk-item {position: relative;z-index: 1;}#sk-container-id-1 div.sk-parallel {display: flex;align-items: stretch;justify-content: center;background-color: white;position: relative;}#sk-container-id-1 div.sk-item::before, #sk-container-id-1 div.sk-parallel-item::before {content: \"\";position: absolute;border-left: 1px solid gray;box-sizing: border-box;top: 0;bottom: 0;left: 50%;z-index: -1;}#sk-container-id-1 div.sk-parallel-item {display: flex;flex-direction: column;z-index: 1;position: relative;background-color: white;}#sk-container-id-1 div.sk-parallel-item:first-child::after {align-self: flex-end;width: 50%;}#sk-container-id-1 div.sk-parallel-item:last-child::after {align-self: flex-start;width: 50%;}#sk-container-id-1 div.sk-parallel-item:only-child::after {width: 0;}#sk-container-id-1 div.sk-dashed-wrapped {border: 1px dashed gray;margin: 0 0.4em 0.5em 0.4em;box-sizing: border-box;padding-bottom: 0.4em;background-color: white;}#sk-container-id-1 div.sk-label label {font-family: monospace;font-weight: bold;display: inline-block;line-height: 1.2em;}#sk-container-id-1 div.sk-label-container {text-align: center;}#sk-container-id-1 div.sk-container {/* jupyter's `normalize.less` sets `[hidden] { display: none; }` but bootstrap.min.css set `[hidden] { display: none !important; }` so we also need the `!important` here to be able to override the default hidden behavior on the sphinx rendered scikit-learn.org. See: https://github.com/scikit-learn/scikit-learn/issues/21755 */display: inline-block !important;position: relative;}#sk-container-id-1 div.sk-text-repr-fallback {display: none;}</style><div id=\"sk-container-id-1\" class=\"sk-top-container\"><div class=\"sk-text-repr-fallback\"><pre>VotingClassifier(estimators=[(&#x27;DT&#x27;,\n",
       "                              DecisionTreeClassifier(criterion=&#x27;entropy&#x27;)),\n",
       "                             (&#x27;GNB&#x27;, GaussianNB()),\n",
       "                             (&#x27;LR&#x27;, LogisticRegression())])</pre><b>In a Jupyter environment, please rerun this cell to show the HTML representation or trust the notebook. <br />On GitHub, the HTML representation is unable to render, please try loading this page with nbviewer.org.</b></div><div class=\"sk-container\" hidden><div class=\"sk-item sk-dashed-wrapped\"><div class=\"sk-label-container\"><div class=\"sk-label sk-toggleable\"><input class=\"sk-toggleable__control sk-hidden--visually\" id=\"sk-estimator-id-1\" type=\"checkbox\" ><label for=\"sk-estimator-id-1\" class=\"sk-toggleable__label sk-toggleable__label-arrow\">VotingClassifier</label><div class=\"sk-toggleable__content\"><pre>VotingClassifier(estimators=[(&#x27;DT&#x27;,\n",
       "                              DecisionTreeClassifier(criterion=&#x27;entropy&#x27;)),\n",
       "                             (&#x27;GNB&#x27;, GaussianNB()),\n",
       "                             (&#x27;LR&#x27;, LogisticRegression())])</pre></div></div></div><div class=\"sk-parallel\"><div class=\"sk-parallel-item\"><div class=\"sk-item\"><div class=\"sk-label-container\"><div class=\"sk-label sk-toggleable\"><label>DT</label></div></div><div class=\"sk-serial\"><div class=\"sk-item\"><div class=\"sk-estimator sk-toggleable\"><input class=\"sk-toggleable__control sk-hidden--visually\" id=\"sk-estimator-id-2\" type=\"checkbox\" ><label for=\"sk-estimator-id-2\" class=\"sk-toggleable__label sk-toggleable__label-arrow\">DecisionTreeClassifier</label><div class=\"sk-toggleable__content\"><pre>DecisionTreeClassifier(criterion=&#x27;entropy&#x27;)</pre></div></div></div></div></div></div><div class=\"sk-parallel-item\"><div class=\"sk-item\"><div class=\"sk-label-container\"><div class=\"sk-label sk-toggleable\"><label>GNB</label></div></div><div class=\"sk-serial\"><div class=\"sk-item\"><div class=\"sk-estimator sk-toggleable\"><input class=\"sk-toggleable__control sk-hidden--visually\" id=\"sk-estimator-id-3\" type=\"checkbox\" ><label for=\"sk-estimator-id-3\" class=\"sk-toggleable__label sk-toggleable__label-arrow\">GaussianNB</label><div class=\"sk-toggleable__content\"><pre>GaussianNB()</pre></div></div></div></div></div></div><div class=\"sk-parallel-item\"><div class=\"sk-item\"><div class=\"sk-label-container\"><div class=\"sk-label sk-toggleable\"><label>LR</label></div></div><div class=\"sk-serial\"><div class=\"sk-item\"><div class=\"sk-estimator sk-toggleable\"><input class=\"sk-toggleable__control sk-hidden--visually\" id=\"sk-estimator-id-4\" type=\"checkbox\" ><label for=\"sk-estimator-id-4\" class=\"sk-toggleable__label sk-toggleable__label-arrow\">LogisticRegression</label><div class=\"sk-toggleable__content\"><pre>LogisticRegression()</pre></div></div></div></div></div></div></div></div></div></div>"
      ],
      "text/plain": [
       "VotingClassifier(estimators=[('DT',\n",
       "                              DecisionTreeClassifier(criterion='entropy')),\n",
       "                             ('GNB', GaussianNB()),\n",
       "                             ('LR', LogisticRegression())])"
      ]
     },
     "execution_count": 19,
     "metadata": {},
     "output_type": "execute_result"
    }
   ],
   "source": [
    "eclf_vc.fit(email_training_data,email_training_target)"
   ]
  },
  {
   "cell_type": "code",
   "execution_count": 20,
   "id": "6c433aa1",
   "metadata": {},
   "outputs": [],
   "source": [
    "email_test_target_predict = eclf_vc.predict(email_test_data)"
   ]
  },
  {
   "cell_type": "code",
   "execution_count": 21,
   "id": "a7922d9d",
   "metadata": {},
   "outputs": [
    {
     "name": "stdout",
     "output_type": "stream",
     "text": [
      "[[1992  190]\n",
      " [ 122 1297]]\n",
      "Per class classification accuracy:\n",
      "Ham class:  0.9129239230064161\n",
      "Spam class:  0.9140239605355884\n"
     ]
    }
   ],
   "source": [
    "eclf_vc_matrix = confusion_matrix(email_test_target,email_test_target_predict)\n",
    "print(eclf_vc_matrix)\n",
    "print(\"Per class classification accuracy:\")\n",
    "print(\"Ham class: \",(eclf_vc_matrix[0][0])/(eclf_vc_matrix[0][0] + eclf_vc_matrix[0][1]))\n",
    "print(\"Spam class: \",(eclf_vc_matrix[1][1]/(eclf_vc_matrix[1][0] + eclf_vc_matrix[1][1])))"
   ]
  },
  {
   "cell_type": "code",
   "execution_count": 22,
   "id": "dd81a167",
   "metadata": {},
   "outputs": [
    {
     "name": "stdout",
     "output_type": "stream",
     "text": [
      "fused majority voting classifier 0.9133574007220217\n"
     ]
    }
   ],
   "source": [
    "print(\"fused majority voting classifier\",accuracy_score(email_test_target,email_test_target_predict))"
   ]
  },
  {
   "cell_type": "code",
   "execution_count": 23,
   "id": "3065fe09",
   "metadata": {},
   "outputs": [],
   "source": [
    "# By default it uses decision tree classifier with max depth 1\n",
    "clf_ab = AdaBoostClassifier()"
   ]
  },
  {
   "cell_type": "code",
   "execution_count": 24,
   "id": "d589a263",
   "metadata": {},
   "outputs": [],
   "source": [
    "clf_ab.fit(email_training_data,email_training_target)\n",
    "email_test_target_predict = clf_ab.predict(email_test_data)"
   ]
  },
  {
   "cell_type": "code",
   "execution_count": 25,
   "id": "a75b91da",
   "metadata": {
    "scrolled": true
   },
   "outputs": [
    {
     "name": "stdout",
     "output_type": "stream",
     "text": [
      "Using adaBoostClassifier with decision tree as base learner =  0.9197445154123854\n"
     ]
    }
   ],
   "source": [
    "print(\"Using adaBoostClassifier with decision tree as base learner = \"\n",
    "      ,accuracy_score(email_test_target,email_test_target_predict))"
   ]
  },
  {
   "cell_type": "code",
   "execution_count": 26,
   "id": "0edf8dbf",
   "metadata": {},
   "outputs": [
    {
     "name": "stdout",
     "output_type": "stream",
     "text": [
      "Confusion matrix:\n",
      " [[2049  133]\n",
      " [ 156 1263]]\n",
      "Per class classification accuracy:\n",
      "Ham class:  0.9390467461044913\n",
      "Spam class:  0.8900634249471459\n"
     ]
    }
   ],
   "source": [
    "ab_matrix = confusion_matrix(email_test_target,email_test_target_predict)\n",
    "print(\"Confusion matrix:\\n\",ab_matrix)\n",
    "print(\"Per class classification accuracy:\")\n",
    "print(\"Ham class: \",(ab_matrix[0][0])/(ab_matrix[0][0] + ab_matrix[0][1]))\n",
    "print(\"Spam class: \",(ab_matrix[1][1]/(ab_matrix[1][0] + ab_matrix[1][1])))"
   ]
  },
  {
   "cell_type": "code",
   "execution_count": 27,
   "id": "16c12653",
   "metadata": {},
   "outputs": [],
   "source": [
    "clf_rf = RandomForestClassifier(n_estimators = 1000)"
   ]
  },
  {
   "cell_type": "code",
   "execution_count": 28,
   "id": "db4cd84c",
   "metadata": {},
   "outputs": [
    {
     "data": {
      "text/html": [
       "<style>#sk-container-id-2 {color: black;background-color: white;}#sk-container-id-2 pre{padding: 0;}#sk-container-id-2 div.sk-toggleable {background-color: white;}#sk-container-id-2 label.sk-toggleable__label {cursor: pointer;display: block;width: 100%;margin-bottom: 0;padding: 0.3em;box-sizing: border-box;text-align: center;}#sk-container-id-2 label.sk-toggleable__label-arrow:before {content: \"▸\";float: left;margin-right: 0.25em;color: #696969;}#sk-container-id-2 label.sk-toggleable__label-arrow:hover:before {color: black;}#sk-container-id-2 div.sk-estimator:hover label.sk-toggleable__label-arrow:before {color: black;}#sk-container-id-2 div.sk-toggleable__content {max-height: 0;max-width: 0;overflow: hidden;text-align: left;background-color: #f0f8ff;}#sk-container-id-2 div.sk-toggleable__content pre {margin: 0.2em;color: black;border-radius: 0.25em;background-color: #f0f8ff;}#sk-container-id-2 input.sk-toggleable__control:checked~div.sk-toggleable__content {max-height: 200px;max-width: 100%;overflow: auto;}#sk-container-id-2 input.sk-toggleable__control:checked~label.sk-toggleable__label-arrow:before {content: \"▾\";}#sk-container-id-2 div.sk-estimator input.sk-toggleable__control:checked~label.sk-toggleable__label {background-color: #d4ebff;}#sk-container-id-2 div.sk-label input.sk-toggleable__control:checked~label.sk-toggleable__label {background-color: #d4ebff;}#sk-container-id-2 input.sk-hidden--visually {border: 0;clip: rect(1px 1px 1px 1px);clip: rect(1px, 1px, 1px, 1px);height: 1px;margin: -1px;overflow: hidden;padding: 0;position: absolute;width: 1px;}#sk-container-id-2 div.sk-estimator {font-family: monospace;background-color: #f0f8ff;border: 1px dotted black;border-radius: 0.25em;box-sizing: border-box;margin-bottom: 0.5em;}#sk-container-id-2 div.sk-estimator:hover {background-color: #d4ebff;}#sk-container-id-2 div.sk-parallel-item::after {content: \"\";width: 100%;border-bottom: 1px solid gray;flex-grow: 1;}#sk-container-id-2 div.sk-label:hover label.sk-toggleable__label {background-color: #d4ebff;}#sk-container-id-2 div.sk-serial::before {content: \"\";position: absolute;border-left: 1px solid gray;box-sizing: border-box;top: 0;bottom: 0;left: 50%;z-index: 0;}#sk-container-id-2 div.sk-serial {display: flex;flex-direction: column;align-items: center;background-color: white;padding-right: 0.2em;padding-left: 0.2em;position: relative;}#sk-container-id-2 div.sk-item {position: relative;z-index: 1;}#sk-container-id-2 div.sk-parallel {display: flex;align-items: stretch;justify-content: center;background-color: white;position: relative;}#sk-container-id-2 div.sk-item::before, #sk-container-id-2 div.sk-parallel-item::before {content: \"\";position: absolute;border-left: 1px solid gray;box-sizing: border-box;top: 0;bottom: 0;left: 50%;z-index: -1;}#sk-container-id-2 div.sk-parallel-item {display: flex;flex-direction: column;z-index: 1;position: relative;background-color: white;}#sk-container-id-2 div.sk-parallel-item:first-child::after {align-self: flex-end;width: 50%;}#sk-container-id-2 div.sk-parallel-item:last-child::after {align-self: flex-start;width: 50%;}#sk-container-id-2 div.sk-parallel-item:only-child::after {width: 0;}#sk-container-id-2 div.sk-dashed-wrapped {border: 1px dashed gray;margin: 0 0.4em 0.5em 0.4em;box-sizing: border-box;padding-bottom: 0.4em;background-color: white;}#sk-container-id-2 div.sk-label label {font-family: monospace;font-weight: bold;display: inline-block;line-height: 1.2em;}#sk-container-id-2 div.sk-label-container {text-align: center;}#sk-container-id-2 div.sk-container {/* jupyter's `normalize.less` sets `[hidden] { display: none; }` but bootstrap.min.css set `[hidden] { display: none !important; }` so we also need the `!important` here to be able to override the default hidden behavior on the sphinx rendered scikit-learn.org. See: https://github.com/scikit-learn/scikit-learn/issues/21755 */display: inline-block !important;position: relative;}#sk-container-id-2 div.sk-text-repr-fallback {display: none;}</style><div id=\"sk-container-id-2\" class=\"sk-top-container\"><div class=\"sk-text-repr-fallback\"><pre>RandomForestClassifier(n_estimators=1000)</pre><b>In a Jupyter environment, please rerun this cell to show the HTML representation or trust the notebook. <br />On GitHub, the HTML representation is unable to render, please try loading this page with nbviewer.org.</b></div><div class=\"sk-container\" hidden><div class=\"sk-item\"><div class=\"sk-estimator sk-toggleable\"><input class=\"sk-toggleable__control sk-hidden--visually\" id=\"sk-estimator-id-5\" type=\"checkbox\" checked><label for=\"sk-estimator-id-5\" class=\"sk-toggleable__label sk-toggleable__label-arrow\">RandomForestClassifier</label><div class=\"sk-toggleable__content\"><pre>RandomForestClassifier(n_estimators=1000)</pre></div></div></div></div></div>"
      ],
      "text/plain": [
       "RandomForestClassifier(n_estimators=1000)"
      ]
     },
     "execution_count": 28,
     "metadata": {},
     "output_type": "execute_result"
    }
   ],
   "source": [
    "clf_rf.fit(email_training_data,email_training_target)"
   ]
  },
  {
   "cell_type": "code",
   "execution_count": 29,
   "id": "0b8dc2a6",
   "metadata": {},
   "outputs": [],
   "source": [
    "email_test_target_predict_rf = clf_rf.predict(email_test_data)"
   ]
  },
  {
   "cell_type": "code",
   "execution_count": 30,
   "id": "834f4ffe",
   "metadata": {},
   "outputs": [
    {
     "name": "stdout",
     "output_type": "stream",
     "text": [
      "Accuracy with random forest with 1000 base learners 0.9336295473479589\n"
     ]
    }
   ],
   "source": [
    "print(\"Accuracy with random forest with 1000 base learners\"\n",
    "      ,accuracy_score(email_test_target,email_test_target_predict_rf))"
   ]
  },
  {
   "cell_type": "code",
   "execution_count": 31,
   "id": "92935845",
   "metadata": {},
   "outputs": [
    {
     "name": "stdout",
     "output_type": "stream",
     "text": [
      "Confusion matrix:\n",
      " [[2094   88]\n",
      " [ 151 1268]]\n",
      "Per class classification accuracy:\n",
      "Ham class:  0.9596700274977086\n",
      "Spam class:  0.8935870331219169\n"
     ]
    }
   ],
   "source": [
    "rf_matrix = confusion_matrix(email_test_target,email_test_target_predict_rf)\n",
    "print(\"Confusion matrix:\\n\",rf_matrix)\n",
    "print(\"Per class classification accuracy:\")\n",
    "print(\"Ham class: \",(rf_matrix[0][0])/(rf_matrix[0][0] + rf_matrix[0][1]))\n",
    "print(\"Spam class: \",(rf_matrix[1][1]/(rf_matrix[1][0] + rf_matrix[1][1])))"
   ]
  },
  {
   "cell_type": "code",
   "execution_count": 33,
   "id": "25a6f3d2",
   "metadata": {},
   "outputs": [],
   "source": [
    "def getAccuracyFusedClassifierAndAdaBoost(email_training_data,email_training_target,email_test_data,email_test_target):\n",
    "    clf_ab.fit(email_training_data,email_training_target)\n",
    "    email_test_data_predict_ab = clf_ab.predict(email_test_data)\n",
    "    print(\"adaboostclassifier\",accuracy_score(email_test_target,email_test_data_predict_ab))\n",
    "    ab_matrix = confusion_matrix(email_test_target,email_test_data_predict_ab)\n",
    "    print(\"Confusion matrix:\\n\",ab_matrix)\n",
    "    print(\"Per class classification accuracy:\")\n",
    "    print(\"Ham class: \",(ab_matrix[0][0])/(ab_matrix[0][0] + ab_matrix[0][1]))\n",
    "    print(\"Spam class: \",(ab_matrix[1][1]/(ab_matrix[1][0] + ab_matrix[1][1])))\n",
    "    \n",
    "    eclf_vc.fit(email_training_data,email_training_target)\n",
    "    email_test_data_predict_vc = eclf_vc.predict(email_test_data)\n",
    "    print(\"fusedclassifier\",accuracy_score(email_test_target,email_test_data_predict_vc))\n",
    "    vc_matrix = confusion_matrix(email_test_target,email_test_data_predict_vc)\n",
    "    print(\"Confusion matrix:\\n\",vc_matrix)\n",
    "    print(\"Per class classification accuracy:\")\n",
    "    print(\"Ham class: \",(vc_matrix[0][0])/(vc_matrix[0][0] + vc_matrix[0][1]))\n",
    "    print(\"Spam class: \",(vc_matrix[1][1]/(vc_matrix[1][0] + vc_matrix[1][1])))\n",
    "    "
   ]
  },
  {
   "cell_type": "code",
   "execution_count": 34,
   "id": "af6f0a65",
   "metadata": {},
   "outputs": [],
   "source": [
    "email_training_set,email_test_set = train_test_split(email_dataset_dataframe,True,50,None)"
   ]
  },
  {
   "cell_type": "code",
   "execution_count": 35,
   "id": "19380175",
   "metadata": {},
   "outputs": [],
   "source": [
    "email_training_data,email_training_target = data_target_split(email_training_set)\n",
    "email_test_data,email_test_target = data_target_split(email_test_set)"
   ]
  },
  {
   "cell_type": "code",
   "execution_count": 36,
   "id": "1a59fd4c",
   "metadata": {},
   "outputs": [
    {
     "name": "stdout",
     "output_type": "stream",
     "text": [
      "adaboostclassifier 0.9274228596262495\n",
      "Confusion matrix:\n",
      " [[1324   72]\n",
      " [  95  810]]\n",
      "Per class classification accuracy:\n",
      "Ham class:  0.9484240687679083\n",
      "Spam class:  0.8950276243093923\n",
      "fusedclassifier 0.9278574532811821\n",
      "Confusion matrix:\n",
      " [[1295  101]\n",
      " [  65  840]]\n",
      "Per class classification accuracy:\n",
      "Ham class:  0.9276504297994269\n",
      "Spam class:  0.9281767955801105\n"
     ]
    },
    {
     "name": "stderr",
     "output_type": "stream",
     "text": [
      "D:\\USA\\DTSC 620\\Assignment 1\\env\\lib\\site-packages\\sklearn\\linear_model\\_logistic.py:444: ConvergenceWarning: lbfgs failed to converge (status=1):\n",
      "STOP: TOTAL NO. of ITERATIONS REACHED LIMIT.\n",
      "\n",
      "Increase the number of iterations (max_iter) or scale the data as shown in:\n",
      "    https://scikit-learn.org/stable/modules/preprocessing.html\n",
      "Please also refer to the documentation for alternative solver options:\n",
      "    https://scikit-learn.org/stable/modules/linear_model.html#logistic-regression\n",
      "  n_iter_i = _check_optimize_result(\n"
     ]
    }
   ],
   "source": [
    "getAccuracyFusedClassifierAndAdaBoost(email_training_data,email_training_target,\n",
    "                                      email_test_data,email_test_target)"
   ]
  },
  {
   "cell_type": "code",
   "execution_count": 43,
   "id": "556dfbab",
   "metadata": {},
   "outputs": [],
   "source": [
    "email_training_set,email_test_set = train_test_split(email_dataset_dataframe,True,60,None)"
   ]
  },
  {
   "cell_type": "code",
   "execution_count": 44,
   "id": "1e86b2f8",
   "metadata": {},
   "outputs": [],
   "source": [
    "email_training_data,email_training_target = data_target_split(email_training_set)\n",
    "email_test_data,email_test_target = data_target_split(email_test_set)"
   ]
  },
  {
   "cell_type": "code",
   "execution_count": 45,
   "id": "1153a4ff",
   "metadata": {},
   "outputs": [
    {
     "name": "stdout",
     "output_type": "stream",
     "text": [
      "adaboostclassifier 0.9364475828354155\n",
      "Confusion matrix:\n",
      " [[1082   54]\n",
      " [  63  642]]\n",
      "Per class classification accuracy:\n",
      "Ham class:  0.9524647887323944\n",
      "Spam class:  0.9106382978723404\n",
      "fusedclassifier 0.9315589353612167\n",
      "Confusion matrix:\n",
      " [[1058   78]\n",
      " [  48  657]]\n",
      "Per class classification accuracy:\n",
      "Ham class:  0.9313380281690141\n",
      "Spam class:  0.9319148936170213\n"
     ]
    },
    {
     "name": "stderr",
     "output_type": "stream",
     "text": [
      "D:\\USA\\DTSC 620\\Assignment 1\\env\\lib\\site-packages\\sklearn\\linear_model\\_logistic.py:444: ConvergenceWarning: lbfgs failed to converge (status=1):\n",
      "STOP: TOTAL NO. of ITERATIONS REACHED LIMIT.\n",
      "\n",
      "Increase the number of iterations (max_iter) or scale the data as shown in:\n",
      "    https://scikit-learn.org/stable/modules/preprocessing.html\n",
      "Please also refer to the documentation for alternative solver options:\n",
      "    https://scikit-learn.org/stable/modules/linear_model.html#logistic-regression\n",
      "  n_iter_i = _check_optimize_result(\n"
     ]
    }
   ],
   "source": [
    "getAccuracyFusedClassifierAndAdaBoost(email_training_data,email_training_target,\n",
    "                                      email_test_data,email_test_target)"
   ]
  },
  {
   "cell_type": "code",
   "execution_count": 46,
   "id": "42f3b624",
   "metadata": {},
   "outputs": [],
   "source": [
    "email_training_set,email_test_set = train_test_split(email_dataset_dataframe,True,70,None)"
   ]
  },
  {
   "cell_type": "code",
   "execution_count": 47,
   "id": "307d567a",
   "metadata": {},
   "outputs": [],
   "source": [
    "email_training_data,email_training_target = data_target_split(email_training_set)\n",
    "email_test_data,email_test_target = data_target_split(email_test_set)"
   ]
  },
  {
   "cell_type": "code",
   "execution_count": 48,
   "id": "6593a19b",
   "metadata": {},
   "outputs": [
    {
     "name": "stdout",
     "output_type": "stream",
     "text": [
      "adaboostclassifier 0.9312092686459088\n",
      "Confusion matrix:\n",
      " [[809  43]\n",
      " [ 52 477]]\n",
      "Per class classification accuracy:\n",
      "Ham class:  0.9495305164319249\n",
      "Spam class:  0.9017013232514177\n",
      "fusedclassifier 0.9290369297610427\n",
      "Confusion matrix:\n",
      " [[796  56]\n",
      " [ 42 487]]\n",
      "Per class classification accuracy:\n",
      "Ham class:  0.9342723004694836\n",
      "Spam class:  0.9206049149338374\n"
     ]
    },
    {
     "name": "stderr",
     "output_type": "stream",
     "text": [
      "D:\\USA\\DTSC 620\\Assignment 1\\env\\lib\\site-packages\\sklearn\\linear_model\\_logistic.py:444: ConvergenceWarning: lbfgs failed to converge (status=1):\n",
      "STOP: TOTAL NO. of ITERATIONS REACHED LIMIT.\n",
      "\n",
      "Increase the number of iterations (max_iter) or scale the data as shown in:\n",
      "    https://scikit-learn.org/stable/modules/preprocessing.html\n",
      "Please also refer to the documentation for alternative solver options:\n",
      "    https://scikit-learn.org/stable/modules/linear_model.html#logistic-regression\n",
      "  n_iter_i = _check_optimize_result(\n"
     ]
    }
   ],
   "source": [
    "getAccuracyFusedClassifierAndAdaBoost(email_training_data,email_training_target,\n",
    "                                      email_test_data,email_test_target)"
   ]
  },
  {
   "cell_type": "code",
   "execution_count": 49,
   "id": "5b8a9915",
   "metadata": {},
   "outputs": [],
   "source": [
    "email_training_set,email_test_set = train_test_split(email_dataset_dataframe,True,80,None)"
   ]
  },
  {
   "cell_type": "code",
   "execution_count": 50,
   "id": "bd621afb",
   "metadata": {},
   "outputs": [],
   "source": [
    "email_training_data,email_training_target = data_target_split(email_training_set)\n",
    "email_test_data,email_test_target = data_target_split(email_test_set)"
   ]
  },
  {
   "cell_type": "code",
   "execution_count": 51,
   "id": "d5a2f5db",
   "metadata": {},
   "outputs": [
    {
     "name": "stdout",
     "output_type": "stream",
     "text": [
      "adaboostclassifier 0.9370249728555917\n",
      "Confusion matrix:\n",
      " [[554  25]\n",
      " [ 33 309]]\n",
      "Per class classification accuracy:\n",
      "Ham class:  0.9568221070811744\n",
      "Spam class:  0.9035087719298246\n",
      "fusedclassifier 0.9305103148751357\n",
      "Confusion matrix:\n",
      " [[539  40]\n",
      " [ 24 318]]\n",
      "Per class classification accuracy:\n",
      "Ham class:  0.9309153713298791\n",
      "Spam class:  0.9298245614035088\n"
     ]
    },
    {
     "name": "stderr",
     "output_type": "stream",
     "text": [
      "D:\\USA\\DTSC 620\\Assignment 1\\env\\lib\\site-packages\\sklearn\\linear_model\\_logistic.py:444: ConvergenceWarning: lbfgs failed to converge (status=1):\n",
      "STOP: TOTAL NO. of ITERATIONS REACHED LIMIT.\n",
      "\n",
      "Increase the number of iterations (max_iter) or scale the data as shown in:\n",
      "    https://scikit-learn.org/stable/modules/preprocessing.html\n",
      "Please also refer to the documentation for alternative solver options:\n",
      "    https://scikit-learn.org/stable/modules/linear_model.html#logistic-regression\n",
      "  n_iter_i = _check_optimize_result(\n"
     ]
    }
   ],
   "source": [
    "getAccuracyFusedClassifierAndAdaBoost(email_training_data,email_training_target,\n",
    "                                      email_test_data,email_test_target)"
   ]
  },
  {
   "cell_type": "code",
   "execution_count": null,
   "id": "a3fa4fed",
   "metadata": {},
   "outputs": [],
   "source": []
  }
 ],
 "metadata": {
  "kernelspec": {
   "display_name": "Python 3 (ipykernel)",
   "language": "python",
   "name": "python3"
  },
  "language_info": {
   "codemirror_mode": {
    "name": "ipython",
    "version": 3
   },
   "file_extension": ".py",
   "mimetype": "text/x-python",
   "name": "python",
   "nbconvert_exporter": "python",
   "pygments_lexer": "ipython3",
   "version": "3.10.8"
  }
 },
 "nbformat": 4,
 "nbformat_minor": 5
}
