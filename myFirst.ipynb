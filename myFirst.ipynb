{
 "cells": [
  {
   "cell_type": "code",
   "execution_count": null,
   "metadata": {
    "id": "eH9BcDn6kK6e"
   },
   "outputs": [],
   "source": [
    "!pip install --upgrade tensorflow"
   ]
  },
  {
   "cell_type": "code",
   "execution_count": 4,
   "metadata": {
    "colab": {
     "base_uri": "https://localhost:8080/",
     "height": 37
    },
    "executionInfo": {
     "elapsed": 1260,
     "status": "ok",
     "timestamp": 1669058730295,
     "user": {
      "displayName": "Kiran Balagani",
      "userId": "18075451712550233445"
     },
     "user_tz": 300
    },
    "id": "Xjt4FagIkMFX",
    "outputId": "9e536dc0-3e30-4cb6-96b6-8cd2506f290e"
   },
   "outputs": [
    {
     "data": {
      "application/vnd.google.colaboratory.intrinsic+json": {
       "type": "string"
      },
      "text/plain": [
       "'1.3.5'"
      ]
     },
     "execution_count": 4,
     "metadata": {},
     "output_type": "execute_result"
    }
   ],
   "source": [
    "from __future__ import print_function\n",
    "import pandas as pd\n",
    "pd.__version__"
   ]
  },
  {
   "cell_type": "code",
   "execution_count": 5,
   "metadata": {
    "colab": {
     "base_uri": "https://localhost:8080/",
     "height": 37
    },
    "executionInfo": {
     "elapsed": 583,
     "status": "ok",
     "timestamp": 1669058732424,
     "user": {
      "displayName": "Kiran Balagani",
      "userId": "18075451712550233445"
     },
     "user_tz": 300
    },
    "id": "YwvBJEV7qpe0",
    "outputId": "01572994-9d5e-40c5-8857-8d246dfd01d5"
   },
   "outputs": [
    {
     "data": {
      "application/vnd.google.colaboratory.intrinsic+json": {
       "type": "string"
      },
      "text/plain": [
       "'/content'"
      ]
     },
     "execution_count": 5,
     "metadata": {},
     "output_type": "execute_result"
    }
   ],
   "source": [
    "import os\n",
    "os.getcwd()"
   ]
  },
  {
   "cell_type": "code",
   "execution_count": 6,
   "metadata": {
    "colab": {
     "base_uri": "https://localhost:8080/"
    },
    "executionInfo": {
     "elapsed": 1516,
     "status": "ok",
     "timestamp": 1669058736652,
     "user": {
      "displayName": "Kiran Balagani",
      "userId": "18075451712550233445"
     },
     "user_tz": 300
    },
    "id": "sIBN0B_3wANU",
    "outputId": "c976c1be-98e9-48c0-a2d6-053d17140d83"
   },
   "outputs": [
    {
     "name": "stdout",
     "output_type": "stream",
     "text": [
      "Drive already mounted at /content/gdrive; to attempt to forcibly remount, call drive.mount(\"/content/gdrive\", force_remount=True).\n"
     ]
    }
   ],
   "source": [
    "#Mouting the drive to load a simple dataset stored on the google drive\n",
    "from google.colab import drive\n",
    "drive.mount('/content/gdrive')"
   ]
  },
  {
   "cell_type": "code",
   "execution_count": null,
   "metadata": {
    "id": "mpAEgNSOl4hF"
   },
   "outputs": [],
   "source": [
    "#Loading a dataset into a dataframe\n",
    "#Use describe(), info(), head() functions to get simple statistics and a description of the dataset \n",
    "iris_dataset_dataframe = pd.read_csv(\"/content/gdrive/My Drive/iris.data\", sep = ',')\n",
    "print('Dataset Loaded...')\n",
    "iris_dataset_dataframe.describe()\n",
    "#Use iris \n",
    "#iris_dataset_dataframe.iloc[0:3]\n"
   ]
  },
  {
   "cell_type": "code",
   "execution_count": null,
   "metadata": {
    "id": "qOuYo02JCSFH"
   },
   "outputs": [],
   "source": [
    "#Use iloc to acces each row, index starts at 0 \n",
    "iris_dataset_dataframe.iloc[0:10]"
   ]
  },
  {
   "cell_type": "code",
   "execution_count": null,
   "metadata": {
    "id": "tVyd0_MW8J4m"
   },
   "outputs": [],
   "source": [
    "#Plot per feature histogram. figsize = (width, height)\n",
    "iris_dataset_dataframe.hist(bins=25,figsize=(15,10))"
   ]
  },
  {
   "cell_type": "code",
   "execution_count": 8,
   "metadata": {
    "executionInfo": {
     "elapsed": 205,
     "status": "ok",
     "timestamp": 1669058754837,
     "user": {
      "displayName": "Kiran Balagani",
      "userId": "18075451712550233445"
     },
     "user_tz": 300
    },
    "id": "CjNDOzd4GbNV"
   },
   "outputs": [],
   "source": [
    "import numpy as np"
   ]
  },
  {
   "cell_type": "code",
   "execution_count": 9,
   "metadata": {
    "executionInfo": {
     "elapsed": 210,
     "status": "ok",
     "timestamp": 1669058758206,
     "user": {
      "displayName": "Kiran Balagani",
      "userId": "18075451712550233445"
     },
     "user_tz": 300
    },
    "id": "5c-TPE3t-Bab"
   },
   "outputs": [],
   "source": [
    "#Define a function to create a training and test set.\n",
    "#Takes dataframe and split ratio as input and outputs train and test datasets (dataframes)\n",
    "def split_train_test(data,test_ratio):\n",
    "  np.random.seed(42) # fix the seed if you want to generate the same\n",
    "  shuffled_indices = np.random.permutation(len(data))\n",
    "  test_set_size = int(len(data)*test_ratio)\n",
    "  test_indices = shuffled_indices[:test_set_size]\n",
    "  train_indices = shuffled_indices[test_set_size:]\n",
    "  return data.iloc[train_indices], data.iloc[test_indices]"
   ]
  },
  {
   "cell_type": "code",
   "execution_count": 10,
   "metadata": {
    "executionInfo": {
     "elapsed": 1460,
     "status": "ok",
     "timestamp": 1669058762161,
     "user": {
      "displayName": "Kiran Balagani",
      "userId": "18075451712550233445"
     },
     "user_tz": 300
    },
    "id": "7V7pKhsWOclY"
   },
   "outputs": [],
   "source": [
    "from sklearn.model_selection import train_test_split"
   ]
  },
  {
   "cell_type": "code",
   "execution_count": null,
   "metadata": {
    "id": "Ihwn19PfOzBo"
   },
   "outputs": [],
   "source": [
    "#You can also use Scikit-Learn to create a training and test set.\n",
    "#random_state parameter fixes the seed.\n",
    "iris_training_set, iris_test_set = train_test_split(iris_dataset_dataframe, test_size=0.2,random_state=42)\n",
    "#iris_dataset_dataframe.keys()\n",
    "#iris_test_set.head()\n",
    "\n",
    "iris_training_data, iris_training_target = iris_training_set[[\"f1\",\"f2\",\"f3\",\"f4\"]], iris_training_set[\"class\"]\n",
    "iris_test_data, iris_test_target = iris_test_set[[\"f1\",\"f2\",\"f3\",\"f4\"]], iris_test_set[\"class\"]\n",
    "\n",
    "iris_training_data.head()\n"
   ]
  },
  {
   "cell_type": "code",
   "execution_count": null,
   "metadata": {
    "id": "4SIuWet9FVT3"
   },
   "outputs": [],
   "source": [
    "#Create training and test datasets for Iris data\n",
    "#iris_training_set, iris_test_set = split_train_test(iris_dataset_dataframe, 0.2)\n",
    "#iris_test_set.head()\n",
    "#iris_test_set.info()"
   ]
  },
  {
   "cell_type": "code",
   "execution_count": null,
   "metadata": {
    "id": "Mad9KGgtNdTp"
   },
   "outputs": [],
   "source": [
    "#Scatter plot of training and test data\n",
    "iris_training_set.plot(kind=\"scatter\", x = \"f1\", y = \"f2\")\n",
    "iris_test_set.plot(kind=\"scatter\", x = \"f1\", y = \"f2\")\n"
   ]
  },
  {
   "cell_type": "code",
   "execution_count": 20,
   "metadata": {
    "colab": {
     "base_uri": "https://localhost:8080/"
    },
    "executionInfo": {
     "elapsed": 7,
     "status": "ok",
     "timestamp": 1669059036359,
     "user": {
      "displayName": "Kiran Balagani",
      "userId": "18075451712550233445"
     },
     "user_tz": 300
    },
    "id": "0heW2ntbOmfK",
    "outputId": "306c0438-4002-4af2-91a3-84dddf0cff0f"
   },
   "outputs": [
    {
     "data": {
      "text/plain": [
       "VotingClassifier(estimators=[('DT',\n",
       "                              DecisionTreeClassifier(criterion='entropy')),\n",
       "                             ('LR', LogisticRegression()),\n",
       "                             ('GNB', GaussianNB())])"
      ]
     },
     "execution_count": 20,
     "metadata": {},
     "output_type": "execute_result"
    }
   ],
   "source": [
    "from sklearn.ensemble import RandomForestClassifier\n",
    "from sklearn import tree\n",
    "from sklearn.tree import DecisionTreeClassifier\n",
    "from sklearn.naive_bayes import GaussianNB\n",
    "from sklearn.ensemble import AdaBoostClassifier, VotingClassifier\n",
    "from sklearn.linear_model import LogisticRegression\n",
    "from sklearn.neighbors import KNeighborsClassifier\n",
    "from sklearn.metrics import confusion_matrix\n",
    "from sklearn.metrics import classification_report\n",
    "from sklearn.metrics import accuracy_score\n",
    "#clf = RandomForestClassifier(n_estimators=100)\n",
    "#clf = DecisionTreeClassifier(criterion = \"entropy\")\n",
    "clf_dt = DecisionTreeClassifier(criterion = \"entropy\")\n",
    "#clf = KNeighborsClassifier(n_neighbors=7)\n",
    "#clf = AdaBoostClassifier(n_estimators = 200)\n",
    "#LRI = LogisticRegression()\n",
    "clf_lr = LogisticRegression()\n",
    "clf_gnb = GaussianNB()\n",
    "#clf = AdaBoostClassifier(n_estimators = 200,base_estimator=LRI)\n",
    "eclf = VotingClassifier(estimators = [('DT', clf_dt),('LR',clf_lr),('GNB',clf_gnb)], voting ='hard')\n",
    "#clf.fit(iris_training_data,iris_training_target)\n",
    "eclf.fit(iris_training_data,iris_training_target)"
   ]
  },
  {
   "cell_type": "code",
   "execution_count": 22,
   "metadata": {
    "colab": {
     "base_uri": "https://localhost:8080/"
    },
    "executionInfo": {
     "elapsed": 211,
     "status": "ok",
     "timestamp": 1669059064131,
     "user": {
      "displayName": "Kiran Balagani",
      "userId": "18075451712550233445"
     },
     "user_tz": 300
    },
    "id": "BHlcquJ7gihs",
    "outputId": "bbc80566-4c2c-4b32-cad7-ee158a596ede"
   },
   "outputs": [
    {
     "data": {
      "text/plain": [
       "array([[10,  0,  0],\n",
       "       [ 0,  9,  0],\n",
       "       [ 0,  0, 11]])"
      ]
     },
     "execution_count": 22,
     "metadata": {},
     "output_type": "execute_result"
    }
   ],
   "source": [
    "#iris_test_target_predict=clf.predict(iris_test_data)\n",
    "iris_test_target_predict =eclf.predict(iris_test_data)\n",
    "confusion_matrix(iris_test_target,iris_test_target_predict)\n",
    "#classification_report(iris_test_target,iris_test_target_predict)\n",
    "#accuracy_score(iris_test_target,iris_test_target_predict)\n"
   ]
  },
  {
   "cell_type": "code",
   "execution_count": null,
   "metadata": {
    "id": "6-8sne4kDKXG"
   },
   "outputs": [],
   "source": [
    "tree.plot_tree(clf)"
   ]
  }
 ],
 "metadata": {
  "accelerator": "TPU",
  "colab": {
   "provenance": []
  },
  "kernelspec": {
   "display_name": "Python 3 (ipykernel)",
   "language": "python",
   "name": "python3"
  },
  "language_info": {
   "codemirror_mode": {
    "name": "ipython",
    "version": 3
   },
   "file_extension": ".py",
   "mimetype": "text/x-python",
   "name": "python",
   "nbconvert_exporter": "python",
   "pygments_lexer": "ipython3",
   "version": "3.10.8"
  }
 },
 "nbformat": 4,
 "nbformat_minor": 1
}
